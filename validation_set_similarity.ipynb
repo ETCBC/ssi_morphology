{
 "cells": [
  {
   "cell_type": "code",
   "execution_count": 13,
   "id": "e65e3915",
   "metadata": {},
   "outputs": [
    {
     "name": "stdout",
     "output_type": "stream",
     "text": [
      "Total number of words: 300676\n"
     ]
    }
   ],
   "source": [
    "# This notebook calculates the similarity between the training set and\n",
    "# the validation set as a function of the percentage of data that is\n",
    "# taken as the validation set.\n",
    "\n",
    "# We consider both the case that space-separated words and that entire\n",
    "# verses are taken as the input tokens.\n",
    "\n",
    "# These are the frequencies of the space-separated words from t-in_voc.\n",
    "# The tuples (n,k) are to be interpreted as: there are n distinct\n",
    "# tokens which occur k times.\n",
    "\n",
    "word_freqs = [(30263,1), (8099,2), (3572,3), (2051,4), (1346,5),\n",
    "   (947,6), (708,7), (491,8), (415,9), (343,10), (273,11), (268,12),\n",
    "   (210,13), (185,14), (184,15), (138,16), (110,17), (105,18),\n",
    "   (110,19), (91,20), (74,21), (71,22), (62,23), (69,24), (67,25),\n",
    "   (58,26), (49,27), (41,28), (35,29), (50,30), (48,31), (50,32),\n",
    "   (24,33), (38,34), (31,35), (30,36), (25,37), (38,38), (37,39),\n",
    "   (12,40), (20,41), (18,42), (22,43), (17,44), (9,45), (20,46),\n",
    "   (17,47), (18,48), (13,49), (21,50), (18,51), (18,52), (15,53),\n",
    "   (9,54), (9,55), (13,56), (4,57), (14,58), (7,59), (10,60), (8,61),\n",
    "   (7,62), (6,63), (8,64), (7,65), (8,66), (9,67), (5,68), (7,69),\n",
    "   (7,70), (6,71), (5,72), (8,73), (8,74), (7,75), (5,76), (2,77),\n",
    "   (6,78), (9,79), (6,80), (8,81), (2,82), (6,83), (4,84), (6,85),\n",
    "   (4,86), (2,87), (6,88), (6,89), (5,90), (5,91), (5,92), (3,93),\n",
    "   (3,94), (2,95), (3,96), (6,97), (3,98), (5,99), (6,100), (1,101),\n",
    "   (2,102), (3,103), (3,104), (7,105), (6,106), (4,107), (2,108),\n",
    "   (3,109), (6,110), (6,111), (2,112), (5,113), (1,114), (4,115),\n",
    "   (3,116), (1,117), (3,118), (2,119), (3,120), (4,121), (3,122),\n",
    "   (2,123), (3,124), (1,125), (2,126), (4,128), (2,129), (2,130),\n",
    "   (4,131), (3,132), (1,133), (3,134), (1,135), (2,136), (3,138),\n",
    "   (7,139), (1,140), (1,142), (1,143), (1,144), (1,146), (3,147),\n",
    "   (2,148), (1,150), (1,151), (2,153), (1,154), (1,155), (4,156),\n",
    "   (3,157), (2,158), (1,159), (1,161), (2,162), (2,163), (2,165),\n",
    "   (3,166), (3,167), (2,168), (1,170), (2,171), (1,172), (3,173),\n",
    "   (3,174), (1,175), (2,178), (1,179), (2,180), (1,182), (1,183),\n",
    "   (3,184), (2,185), (1,187), (3,188), (1,190), (1,191), (3,192),\n",
    "   (2,193), (1,194), (1,195), (1,196), (2,197), (1,199), (1,200),\n",
    "   (2,201), (1,202), (1,204), (2,205), (1,206), (1,207), (1,210),\n",
    "   (1,211), (2,212), (1,213), (1,215), (2,217), (1,219), (1,220),\n",
    "   (2,221), (1,226), (3,229), (1,235), (2,239), (2,240), (2,241),\n",
    "   (2,242), (1,243), (1,247), (1,248), (1,249), (1,255), (1,263),\n",
    "   (1,266), (3,269), (2,270), (1,271), (4,273), (1,279), (1,280),\n",
    "   (2,282), (1,284), (1,289), (1,290), (1,293), (1,295), (2,297),\n",
    "   (2,301), (1,311), (1,313), (2,320), (1,325), (2,333), (1,334),\n",
    "   (2,335), (1,344), (2,355), (1,357), (1,358), (1,359), (1,365),\n",
    "   (1,366), (1,372), (1,379), (1,394), (1,395), (2,398), (1,403),\n",
    "   (1,414), (2,420), (1,429), (1,435), (1,438), (1,440), (1,441),\n",
    "   (1,443), (1,447), (1,458), (1,466), (1,470), (1,472), (1,481),\n",
    "   (1,486), (1,489), (1,508), (1,515), (1,572), (1,578), (1,587),\n",
    "   (1,595), (1,602), (1,606), (1,619), (1,620), (1,638), (1,679),\n",
    "   (1,683), (1,696), (1,699), (1,726), (1,743), (1,782), (1,787),\n",
    "   (1,856), (1,861), (1,862), (1,900), (1,934), (1,1024), (1,1027),\n",
    "   (1,1043), (1,1130), (1,1228), (1,1284), (1,1577), (1,1795),\n",
    "   (1,1945), (1,2259), (1,2558), (1,3231), (1,3477), (1,3540),\n",
    "   (1,4343), (1,4807), (1,5657), (1,6716)]\n",
    "\n",
    "# Check whether everything adds up.\n",
    "print('Total number of words:',\n",
    "   sum([t[0] * t[1] for t in word_freqs]))"
   ]
  },
  {
   "cell_type": "code",
   "execution_count": 14,
   "id": "2555f742",
   "metadata": {},
   "outputs": [
    {
     "name": "stdout",
     "output_type": "stream",
     "text": [
      "Total number of verses: 22946\n"
     ]
    }
   ],
   "source": [
    "# These are the frequencies when the tokens are entire verses.\n",
    "verse_freqs = [(22492,1), (116,2), (4,3), (5,4), (1,5), (3,9), (1,10),\n",
    "   (3,12), (1,44), (1,68)]\n",
    "\n",
    "# Check again whether everything adds up.\n",
    "print('Total number of verses:',\n",
    "   sum([t[0] * t[1] for t in verse_freqs]))"
   ]
  },
  {
   "cell_type": "code",
   "execution_count": 15,
   "id": "762c1970",
   "metadata": {},
   "outputs": [],
   "source": [
    "# Performing a theoretical calculation of the average similarity using\n",
    "# combinatorics is a hypergeometric nightmare (if at all feasible).\n",
    "# We therefore use a Monte Carlo simulation.\n",
    "\n",
    "from numpy import array, intersect1d\n",
    "from numpy.random import shuffle\n",
    "\n",
    "# Represent all input forms by a ball of a distinctive colour\n",
    "def colour_balls(freqs):\n",
    "   l = []\n",
    "   color = 0\n",
    "   for f in freqs:\n",
    "      for i in range(f[0]):\n",
    "         for j in range(f[1]):\n",
    "            l.append(color)\n",
    "         color += 1\n",
    "   return array(l)"
   ]
  },
  {
   "cell_type": "code",
   "execution_count": 16,
   "id": "b80cb74f",
   "metadata": {},
   "outputs": [],
   "source": [
    "# The x-axis represents the size of the validation set as a percentage\n",
    "# of the data set. It ranges from 0 to p_max.\n",
    "p_max = 100\n",
    "\n",
    "# During the simulation the data is shuffled and partitioned into\n",
    "# a training and a validation set. Then the cardinality of the\n",
    "# intersection of the two sets is determined and the Jaccard similarity\n",
    "# is calculated. This is repeated n_trials times. The mean and sample\n",
    "# standard deviation of the outcomes are stored. This is done for all\n",
    "# integral percentages between 0 and p_max.\n",
    "\n",
    "# Number of Monte Carlo trials\n",
    "n_trials = 32\n",
    "\n",
    "def MonteCarloSimulation(data):\n",
    "   means = [0]\n",
    "   stddev = [0]\n",
    "   for p in range(1, p_max):\n",
    "      r = int(p/100 * len(data))\n",
    "      sample = []\n",
    "      for i in range(n_trials):\n",
    "         shuffle(data)\n",
    "         train = array(data[r:])\n",
    "         valid = array(data[:r])\n",
    "         inter = len(intersect1d(train, valid))\n",
    "         js = inter / (len(train) + len(valid) - inter)\n",
    "         sample.append(js)\n",
    "      means.append(array(sample).mean())\n",
    "      stddev.append(array(sample).std(ddof=1))\n",
    "   return array(means), array(stddev)"
   ]
  },
  {
   "cell_type": "code",
   "execution_count": 17,
   "id": "ac5e9295",
   "metadata": {},
   "outputs": [],
   "source": [
    "from matplotlib import pyplot as plot\n",
    "\n",
    "def plot_graph(freqs):\n",
    "   data = colour_balls(freqs)\n",
    "   means, stddev = MonteCarloSimulation(data)\n",
    "   print('Maximum similarity is', means.max())\n",
    "   plot.errorbar(range(p_max), means, stddev,\n",
    "      linestyle='None', marker='.')\n",
    "   plot.xlabel('Validation set percentage')\n",
    "   plot.ylabel('Jaccard similarity between sets')\n",
    "   plot.show()"
   ]
  },
  {
   "cell_type": "code",
   "execution_count": 18,
   "id": "15f28e57",
   "metadata": {},
   "outputs": [
    {
     "name": "stdout",
     "output_type": "stream",
     "text": [
      "Maximum similarity is 0.05649527411807131\n"
     ]
    },
    {
     "data": {
      "image/png": "[encoded data removed]",
      "text/plain": [
       "<Figure size 432x288 with 1 Axes>"
      ]
     },
     "metadata": {
      "needs_background": "light"
     },
     "output_type": "display_data"
    }
   ],
   "source": [
    "plot_graph(word_freqs)"
   ]
  },
  {
   "cell_type": "code",
   "execution_count": 19,
   "id": "503b22dc",
   "metadata": {},
   "outputs": [
    {
     "name": "stdout",
     "output_type": "stream",
     "text": [
      "Maximum similarity is 0.0033492275877352864\n"
     ]
    },
    {
     "data": {
      "image/png": "[encoded data removed]",
      "text/plain": [
       "<Figure size 432x288 with 1 Axes>"
      ]
     },
     "metadata": {
      "needs_background": "light"
     },
     "output_type": "display_data"
    }
   ],
   "source": [
    "plot_graph(verse_freqs)"
   ]
  }
 ],
 "metadata": {
  "kernelspec": {
   "display_name": "Python 3",
   "language": "python",
   "name": "python3"
  },
  "language_info": {
   "codemirror_mode": {
    "name": "ipython",
    "version": 3
   },
   "file_extension": ".py",
   "mimetype": "text/x-python",
   "name": "python",
   "nbconvert_exporter": "python",
   "pygments_lexer": "ipython3",
   "version": "3.8.8"
  }
 },
 "nbformat": 4,
 "nbformat_minor": 5
}
