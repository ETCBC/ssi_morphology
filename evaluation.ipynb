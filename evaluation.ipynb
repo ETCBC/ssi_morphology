{
 "cells": [
  {
   "cell_type": "markdown",
   "id": "c2c5dd72",
   "metadata": {},
   "source": [
    "This notebook is an example of how to use the module `evaluation.py` for the evaluation of the output of the neural network."
   ]
  },
  {
   "cell_type": "code",
   "execution_count": 1,
   "id": "1b30d890",
   "metadata": {},
   "outputs": [],
   "source": [
    "from evaluation import mc_distance, mc_load_morphemes"
   ]
  },
  {
   "cell_type": "code",
   "execution_count": 2,
   "id": "1684d35e",
   "metadata": {},
   "outputs": [],
   "source": [
    "# Initialise the language\n",
    "mc_load_morphemes('Hebrew')"
   ]
  },
  {
   "cell_type": "code",
   "execution_count": 3,
   "id": "d437a016",
   "metadata": {},
   "outputs": [],
   "source": [
    "# Retrieve the evaluation lines from the output of the neural network\n",
    "# and compile the list of distances.\n",
    "\n",
    "distances = []\n",
    "\n",
    "with open('results_morphology_2021-07-09.txt') as f:\n",
    "   for line in f:\n",
    "      l = line.split()\n",
    "      if len(l) != 4:\n",
    "         continue\n",
    "      if l[3] == \"correct\":\n",
    "         distances.append(0)\n",
    "      elif l[3] == \"wrong\":\n",
    "         distances.append(mc_distance(l[1], l[2]))"
   ]
  },
  {
   "cell_type": "code",
   "execution_count": 4,
   "id": "dfaf95b6",
   "metadata": {},
   "outputs": [],
   "source": [
    "# These imports are necessary for the calculation of the error levels\n",
    "from math import floor, log\n",
    "from evaluation import Base, Dimensions\n",
    "\n",
    "# A score is a tuple (is_correct, distance, error_level)\n",
    "scores = []\n",
    "\n",
    "for d in distances:\n",
    "   if d == 0:\n",
    "      level = Dimensions\n",
    "   else:\n",
    "      degree = floor(log(d)/log(Base))\n",
    "      level = Dimensions - degree - 1\n",
    "   scores.append((d == 0, d, level))"
   ]
  },
  {
   "cell_type": "code",
   "execution_count": 5,
   "id": "470a3310",
   "metadata": {},
   "outputs": [
    {
     "name": "stdout",
     "output_type": "stream",
     "text": [
      "Accuracy: 27175/29949 = 0.907375872316271\n"
     ]
    }
   ],
   "source": [
    "# Calculate the accuracy of the run\n",
    "c = [s[0] for s in scores].count(True)\n",
    "n = len(scores)\n",
    "print(f'Accuracy: {c}/{n} = {c/n}')"
   ]
  },
  {
   "cell_type": "code",
   "execution_count": 6,
   "id": "fcce81fd",
   "metadata": {},
   "outputs": [
    {
     "name": "stdout",
     "output_type": "stream",
     "text": [
      "Deviation = 4597.698654379111, spread = 31509.983025174835\n"
     ]
    }
   ],
   "source": [
    "# Calculate the deviation of the run\n",
    "from statistics import mean, stdev\n",
    "distances = [s[1] for s in scores]\n",
    "print(f'Deviation = {mean(distances)}, spread = {stdev(distances)}')"
   ]
  },
  {
   "cell_type": "code",
   "execution_count": 7,
   "id": "c8a04ecd",
   "metadata": {},
   "outputs": [
    {
     "data": {
      "text/plain": [
       "array([[<AxesSubplot:title={'center':'Error Level'}>]], dtype=object)"
      ]
     },
     "execution_count": 7,
     "metadata": {},
     "output_type": "execute_result"
    },
    {
     "data": {
      "image/png": "[encoded data removed]",
      "text/plain": [
       "<Figure size 432x288 with 1 Axes>"
      ]
     },
     "metadata": {
      "needs_background": "light"
     },
     "output_type": "display_data"
    }
   ],
   "source": [
    "# Display a histogram of the error levels.\n",
    "from pandas import DataFrame\n",
    "\n",
    "# Apply a continuity correction to the range\n",
    "r = [x - 1/2 for x in (0, Dimensions)]\n",
    "\n",
    "df = DataFrame([s[2] for s in scores if not s[0]])\n",
    "df.columns = ['Error Level']\n",
    "df.hist(bins=Dimensions, grid=False, range=r)"
   ]
  },
  {
   "cell_type": "markdown",
   "id": "f690e0ec",
   "metadata": {},
   "source": [
    "#### Error Levels\n",
    "0. Parse errors in the encoding\n",
    "1. Difference of the surface form with the true surface form\n",
    "2. Ungrammatical morpheme type combinations\n",
    "3. Unparadigmatic morphemes\n",
    "4. Difference in number of analytical words with the true form\n",
    "5. Difference in morphemes with the true form"
   ]
  }
 ],
 "metadata": {
  "kernelspec": {
   "display_name": "Python 3",
   "language": "python",
   "name": "python3"
  },
  "language_info": {
   "codemirror_mode": {
    "name": "ipython",
    "version": 3
   },
   "file_extension": ".py",
   "mimetype": "text/x-python",
   "name": "python",
   "nbconvert_exporter": "python",
   "pygments_lexer": "ipython3",
   "version": "3.8.8"
  }
 },
 "nbformat": 4,
 "nbformat_minor": 5
}
