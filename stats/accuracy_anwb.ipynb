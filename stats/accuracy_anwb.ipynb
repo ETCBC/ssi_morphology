{
 "cells": [
  {
   "cell_type": "markdown",
   "id": "414c5207",
   "metadata": {},
   "source": [
    "### Questions\n",
    "1. Which accuracy would we reach I we would use the method of an analytical dictionary lookup?\n",
    "2. What is the influence of the window size?"
   ]
  },
  {
   "cell_type": "markdown",
   "id": "c1ed2e45",
   "metadata": {},
   "source": [
    "From the input files, a dataset is created in the form of a list of pairs (tuples) of input form and output form. Output forms with an underscore (embedded space) are split on the underscore, and both pieces are marked with an\n",
    "underscore so that a window can be removed if such a piece contaminates it."
   ]
  },
  {
   "cell_type": "code",
   "execution_count": 1,
   "id": "5499e745",
   "metadata": {},
   "outputs": [],
   "source": [
    "# Add the pairs of input and output form of one verse to the dataset\n",
    "\n",
    "def add_pairs(dataset, words_in, words_out):\n",
    "   # Split the forms at the underscore, but keep them marked\n",
    "   words_out = words_out.replace(\"_\", \"_ _\")\n",
    "   w_in = words_in.split()\n",
    "   w_out = words_out.split()\n",
    "   assert(len(w_in) == len(w_out))\n",
    "   for i in range(len(w_in)):\n",
    "      dataset.append((w_in[i], w_out[i]))\n",
    "\n",
    "# Read the file with input forms and the file with output forms and\n",
    "# create a dataset in the form of a list of pairs (tuples) of input\n",
    "# form and output form.\n",
    "\n",
    "def create_dataset(fname_in, fname_out):\n",
    "   dataset = []\n",
    "   with open(fname_in) as f_in, open(fname_out) as f_out:\n",
    "      for verse_in in f_in:\n",
    "         verse_out = f_out.readline()\n",
    "         words_in = verse_in.split(\"\\t\")[3].strip()\n",
    "         words_out = verse_out.split(\"\\t\")[3].strip()\n",
    "         add_pairs(dataset, words_in, words_out)\n",
    "   return dataset"
   ]
  },
  {
   "cell_type": "markdown",
   "id": "7bd96303",
   "metadata": {},
   "source": [
    "The dataset requires more preprocessing, but this depends on the window size. A window is a space-separated list of input or output forms from the dataset. We create a list of windows and discard the ones that are not useful. The result is called the working set."
   ]
  },
  {
   "cell_type": "code",
   "execution_count": 2,
   "id": "044a9055",
   "metadata": {},
   "outputs": [],
   "source": [
    "# The working set is the result of moving a sliding window of size w\n",
    "# over the dataset, where all windows that contain a ketib-qere or an\n",
    "# underscore (a lexeme with an embedded space) are discarded.\n",
    "def add_window(ws, window):\n",
    "   w_in = ' '.join([w[0] for w in window])\n",
    "   w_out = ' '.join([w[1] for w in window])\n",
    "   if '*' not in w_in and '_' not in w_out:\n",
    "      ws.append((w_in, w_out))\n",
    "\n",
    "def create_working_set(dataset, w):\n",
    "   ws = []\n",
    "   n = len(dataset)\n",
    "   for i in range(n-w+1):\n",
    "      ds = dataset[i:i+w]\n",
    "      add_window(ws, ds)\n",
    "   for i in range(n-w+1, n):\n",
    "      ds = dataset[i:n] + dataset[0:i+w-n]\n",
    "      add_window(ws, ds)\n",
    "   return ws"
   ]
  },
  {
   "cell_type": "markdown",
   "id": "58da54e5",
   "metadata": {},
   "source": [
    "We create an analytical dictionary, called _anwb_, with an entry for each input form, based on a training set. The input form is the key. The value is the most frequent analysis of this input form.\n",
    "\n",
    "We further define the accuracy of the anwb for a working set as the fraction of the working set that will be analysed correctly with a lookup in this anwb."
   ]
  },
  {
   "cell_type": "code",
   "execution_count": 3,
   "id": "72dcef71",
   "metadata": {},
   "outputs": [],
   "source": [
    "from collections import Counter\n",
    "\n",
    "def create_anwb(ws):\n",
    "   anwb = {}\n",
    "   for entry in Counter(ws).most_common():\n",
    "      pair, freq = entry\n",
    "      w_in, w_out = pair\n",
    "      if w_in not in anwb:\n",
    "         anwb[w_in] = w_out\n",
    "   return anwb\n",
    "\n",
    "\n",
    "def accuracy(ws, anwb):\n",
    "   n_errors = 0\n",
    "   for pair in ws:\n",
    "      w_in, w_out = pair\n",
    "      if w_in not in anwb or anwb[w_in] != w_out:\n",
    "         n_errors += 1\n",
    "   return 1 - n_errors / len(ws)"
   ]
  },
  {
   "cell_type": "markdown",
   "id": "2040d89c",
   "metadata": {},
   "source": [
    "When interpreting the results, we like to how ambiguous a working set was. We therefore define the rate of ambiguity as follows."
   ]
  },
  {
   "cell_type": "code",
   "execution_count": 4,
   "id": "a8c93ffe",
   "metadata": {},
   "outputs": [],
   "source": [
    "# The rate of ambiguity we define as the number of input forms that\n",
    "# do not have a unique analysis throughout the dataset, divided by\n",
    "# the total number of input forms.\n",
    "def ambiguity(ws):\n",
    "   pair_counts = Counter(ws)\n",
    "   input_counts = Counter()\n",
    "   for p in pair_counts:\n",
    "      input_counts[p[0]] += pair_counts[p]\n",
    "   key_counts = Counter([p[0] for p in pair_counts])\n",
    "   n = 0\n",
    "   for w in key_counts:\n",
    "      if key_counts[w] > 1:\n",
    "         n += input_counts[w]\n",
    "   return n / len(ws)"
   ]
  },
  {
   "cell_type": "markdown",
   "id": "a236d574",
   "metadata": {},
   "source": [
    "The work horse of this notebook is `get_accuracies()`, which iterates over all window sizes creating a working set from the dataset. Each working set is randomised and split 70/30 into a training set and a test set. We measure the ambiguity of the working set, the accuracy of the _anwb_ against the training set and the test set, and the number of windows and unique windows in the working set."
   ]
  },
  {
   "cell_type": "code",
   "execution_count": 5,
   "id": "cccd4bc4",
   "metadata": {},
   "outputs": [],
   "source": [
    "from random import seed, shuffle\n",
    "seed(0xed48)\n",
    "\n",
    "# The window sizes we shall test range from 1 to N\n",
    "N = 9\n",
    "\n",
    "def get_accuracies(dataset):\n",
    "   r = []\n",
    "   for w in range(1, N + 1):\n",
    "      ws = create_working_set(dataset, w)\n",
    "      amb = ambiguity(ws)\n",
    "      shuffle(ws)\n",
    "      # Training set / test set cut\n",
    "      cut = 7 * len(ws) // 10\n",
    "      training_set = ws[:cut]\n",
    "      anwb = create_anwb(training_set)\n",
    "      test_set = ws[cut:]\n",
    "      acc_train = accuracy(training_set, anwb)\n",
    "      acc_test = accuracy(test_set, anwb)\n",
    "      r.append((acc_train, acc_test, amb, len(ws), len(set(ws))))\n",
    "      assert(acc_train >= 1 - amb)\n",
    "   return r"
   ]
  },
  {
   "cell_type": "code",
   "execution_count": 6,
   "id": "43dc68e2",
   "metadata": {},
   "outputs": [],
   "source": [
    "from matplotlib.pyplot import bar, legend, show, suptitle, title, xlabel, ylabel\n",
    "\n",
    "def plot_result(result, fname_in, fname_out):\n",
    "   graphs = ['Training set', 'Test set', 'Ambiguity']\n",
    "   r = range(1, len(result) + 1)\n",
    "   for i in range(len(graphs)):\n",
    "      bar(r, [x[i] for x in result])\n",
    "   suptitle('Analytical dictionary method')\n",
    "   title(f'{fname_in}, {fname_out}')\n",
    "   xlabel('Window size')\n",
    "   ylabel('Accuracy')\n",
    "   legend(graphs, loc='center right')\n",
    "   show()"
   ]
  },
  {
   "cell_type": "code",
   "execution_count": 7,
   "id": "f29f47bf",
   "metadata": {},
   "outputs": [],
   "source": [
    "from pandas import DataFrame\n",
    "\n",
    "# Return the path into the data directory\n",
    "def p(f):\n",
    "    return f'../data/{f}'\n",
    "\n",
    "def process_dataset(fname_in, fname_out):\n",
    "   dataset = create_dataset(p(fname_in), p(fname_out))\n",
    "   result = get_accuracies(dataset)\n",
    "   plot_result(result, fname_in, fname_out)\n",
    "   index = range(1, len(result) + 1)\n",
    "   columns = ['train', 'test', 'ambiguity', 'size', 'unique']\n",
    "   print(DataFrame(result, index=index, columns=columns))"
   ]
  },
  {
   "cell_type": "code",
   "execution_count": 8,
   "id": "df176896",
   "metadata": {},
   "outputs": [
    {
     "data": {
      "image/png": "[encoded data removed]",
      "text/plain": [
       "<Figure size 432x288 with 1 Axes>"
      ]
     },
     "metadata": {
      "needs_background": "light"
     },
     "output_type": "display_data"
    },
    {
     "name": "stdout",
     "output_type": "stream",
     "text": [
      "      train      test  ambiguity    size  unique\n",
      "1  0.987157  0.864758   0.158454  298105   52211\n",
      "2  0.997777  0.383457   0.017137  296312  200699\n",
      "3  0.999631  0.149703   0.001860  294582  260092\n",
      "4  0.999878  0.075545   0.000379  292893  275879\n",
      "5  0.999936  0.046514   0.000206  291238  280877\n",
      "6  0.999956  0.032341   0.000142  289619  282643\n",
      "7  0.999975  0.024036   0.000073  288034  282986\n",
      "8  0.999985  0.017430   0.000042  286475  282675\n",
      "9  0.999985  0.013523   0.000035  284935  281965\n"
     ]
    }
   ],
   "source": [
    "process_dataset('t-in_voc', 't-out')"
   ]
  },
  {
   "cell_type": "markdown",
   "id": "8541b109",
   "metadata": {},
   "source": [
    "#### The five columns in the table show:\n",
    "1. The accuracy on the training set\n",
    "2. The accuracy on the test set\n",
    "3. The ambiguity in the working set\n",
    "4. The number of windows in the working set\n",
    "5. The number of unique windows in the working set"
   ]
  },
  {
   "cell_type": "code",
   "execution_count": 9,
   "id": "1ff28068",
   "metadata": {
    "scrolled": false
   },
   "outputs": [
    {
     "data": {
      "image/png": "[encoded data removed]",
      "text/plain": [
       "<Figure size 432x288 with 1 Axes>"
      ]
     },
     "metadata": {
      "needs_background": "light"
     },
     "output_type": "display_data"
    },
    {
     "name": "stdout",
     "output_type": "stream",
     "text": [
      "      train      test  ambiguity    size  unique\n",
      "1  0.899949  0.801380   0.570648  298105   48232\n",
      "2  0.982938  0.390690   0.084641  296312  196709\n",
      "3  0.997633  0.156628   0.008785  294582  258469\n",
      "4  0.999429  0.079062   0.001984  292893  275155\n",
      "5  0.999750  0.048585   0.000728  291238  280459\n",
      "6  0.999896  0.032756   0.000394  289619  282360\n",
      "7  0.999921  0.024187   0.000212  288034  282778\n",
      "8  0.999960  0.018466   0.000126  286475  282523\n",
      "9  0.999965  0.014459   0.000098  284935  281845\n"
     ]
    }
   ],
   "source": [
    "process_dataset('t-in_con', 't-out')"
   ]
  },
  {
   "cell_type": "code",
   "execution_count": 10,
   "id": "ac05ba2e",
   "metadata": {},
   "outputs": [
    {
     "data": {
      "image/png": "[encoded data removed]",
      "text/plain": [
       "<Figure size 432x288 with 1 Axes>"
      ]
     },
     "metadata": {
      "needs_background": "light"
     },
     "output_type": "display_data"
    },
    {
     "name": "stdout",
     "output_type": "stream",
     "text": [
      "      train      test  ambiguity   size  unique\n",
      "1  0.934320  0.732742   0.360617  35345   10177\n",
      "2  0.986379  0.234440   0.049880  35345   28498\n",
      "3  0.996969  0.072143   0.010355  35345   33360\n",
      "4  0.998787  0.031498   0.004781  35345   34510\n",
      "5  0.999515  0.015560   0.001584  35345   34940\n",
      "6  0.999596  0.008770   0.000792  35345   35139\n",
      "7  1.000000  0.004338   0.000396  35345   35239\n",
      "8  0.999879  0.001509   0.000283  35345   35289\n",
      "9  0.999919  0.001320   0.000170  35345   35316\n"
     ]
    }
   ],
   "source": [
    "process_dataset('s-in', 's-out')"
   ]
  }
 ],
 "metadata": {
  "kernelspec": {
   "display_name": "Python 3",
   "language": "python",
   "name": "python3"
  },
  "language_info": {
   "codemirror_mode": {
    "name": "ipython",
    "version": 3
   },
   "file_extension": ".py",
   "mimetype": "text/x-python",
   "name": "python",
   "nbconvert_exporter": "python",
   "pygments_lexer": "ipython3",
   "version": "3.8.8"
  }
 },
 "nbformat": 4,
 "nbformat_minor": 5
}
