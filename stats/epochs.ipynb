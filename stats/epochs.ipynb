{
 "cells": [
  {
   "cell_type": "markdown",
   "metadata": {},
   "source": [
    "# These are the scores from thirty-five otherwise identical runs in which only the <span style=\"color:red\">number of epochs</span> is varied."
   ]
  },
  {
   "cell_type": "code",
   "execution_count": 17,
   "metadata": {},
   "outputs": [
    {
     "name": "stdout",
     "output_type": "stream",
     "text": [
      "<class 'pandas.core.frame.DataFrame'>\n",
      "RangeIndex: 119 entries, 0 to 118\n",
      "Data columns (total 14 columns):\n",
      "job         119 non-null int64\n",
      "seqlen      119 non-null int64\n",
      "epochs      119 non-null int64\n",
      "lrate       119 non-null float64\n",
      "times       119 non-null object\n",
      "f_in        119 non-null object\n",
      "f_out       119 non-null object\n",
      "embsize     119 non-null int64\n",
      "n_heads     119 non-null int64\n",
      "n_enc       119 non-null int64\n",
      "n_dec       119 non-null int64\n",
      "network     119 non-null object\n",
      "complete    119 non-null float64\n",
      "distinct    119 non-null object\n",
      "dtypes: float64(2), int64(7), object(5)\n",
      "memory usage: 13.1+ KB\n"
     ]
    }
   ],
   "source": [
    "from pandas import read_csv\n",
    "\n",
    "scores = read_csv('runs.csv', sep='\\t')\n",
    "scores.info()"
   ]
  },
  {
   "cell_type": "code",
   "execution_count": 18,
   "metadata": {},
   "outputs": [
    {
     "data": {
      "text/html": [
       "<div>\n",
       "<style scoped>\n",
       "    .dataframe tbody tr th:only-of-type {\n",
       "        vertical-align: middle;\n",
       "    }\n",
       "\n",
       "    .dataframe tbody tr th {\n",
       "        vertical-align: top;\n",
       "    }\n",
       "\n",
       "    .dataframe thead th {\n",
       "        text-align: right;\n",
       "    }\n",
       "</style>\n",
       "<table border=\"1\" class=\"dataframe\">\n",
       "  <thead>\n",
       "    <tr style=\"text-align: right;\">\n",
       "      <th></th>\n",
       "      <th>job</th>\n",
       "      <th>seqlen</th>\n",
       "      <th>epochs</th>\n",
       "      <th>lrate</th>\n",
       "      <th>times</th>\n",
       "      <th>f_in</th>\n",
       "      <th>f_out</th>\n",
       "      <th>embsize</th>\n",
       "      <th>n_heads</th>\n",
       "      <th>n_enc</th>\n",
       "      <th>n_dec</th>\n",
       "      <th>network</th>\n",
       "      <th>complete</th>\n",
       "      <th>distinct</th>\n",
       "    </tr>\n",
       "  </thead>\n",
       "  <tbody>\n",
       "    <tr>\n",
       "      <th>0</th>\n",
       "      <td>1192</td>\n",
       "      <td>4</td>\n",
       "      <td>14</td>\n",
       "      <td>0.000198</td>\n",
       "      <td>(\"18:47:56\", \"21:35:10\")</td>\n",
       "      <td>t-in_voc</td>\n",
       "      <td>t-out</td>\n",
       "      <td>512</td>\n",
       "      <td>8</td>\n",
       "      <td>3</td>\n",
       "      <td>3</td>\n",
       "      <td>transformer</td>\n",
       "      <td>0.718206</td>\n",
       "      <td>[0.9414924489865595, 0.9471941185173383, 0.946...</td>\n",
       "    </tr>\n",
       "    <tr>\n",
       "      <th>1</th>\n",
       "      <td>1344</td>\n",
       "      <td>4</td>\n",
       "      <td>14</td>\n",
       "      <td>0.000008</td>\n",
       "      <td>(\"17:23:41\", \"20:10:02\")</td>\n",
       "      <td>t-in_voc</td>\n",
       "      <td>t-out</td>\n",
       "      <td>512</td>\n",
       "      <td>8</td>\n",
       "      <td>3</td>\n",
       "      <td>3</td>\n",
       "      <td>transformer</td>\n",
       "      <td>0.382103</td>\n",
       "      <td>[0.7952975452093457, 0.7879684530380453, 0.782...</td>\n",
       "    </tr>\n",
       "    <tr>\n",
       "      <th>2</th>\n",
       "      <td>1345</td>\n",
       "      <td>4</td>\n",
       "      <td>14</td>\n",
       "      <td>0.000010</td>\n",
       "      <td>(\"17:23:42\", \"20:09:12\")</td>\n",
       "      <td>t-in_voc</td>\n",
       "      <td>t-out</td>\n",
       "      <td>512</td>\n",
       "      <td>8</td>\n",
       "      <td>3</td>\n",
       "      <td>3</td>\n",
       "      <td>transformer</td>\n",
       "      <td>0.430072</td>\n",
       "      <td>[0.8177628059952884, 0.8167271734058655, 0.813...</td>\n",
       "    </tr>\n",
       "    <tr>\n",
       "      <th>3</th>\n",
       "      <td>1346</td>\n",
       "      <td>4</td>\n",
       "      <td>14</td>\n",
       "      <td>0.000012</td>\n",
       "      <td>(\"17:23:47\", \"20:12:51\")</td>\n",
       "      <td>t-in_voc</td>\n",
       "      <td>t-out</td>\n",
       "      <td>512</td>\n",
       "      <td>8</td>\n",
       "      <td>3</td>\n",
       "      <td>3</td>\n",
       "      <td>transformer</td>\n",
       "      <td>0.480556</td>\n",
       "      <td>[0.842834219121647, 0.8435284343738975, 0.8417...</td>\n",
       "    </tr>\n",
       "    <tr>\n",
       "      <th>4</th>\n",
       "      <td>1347</td>\n",
       "      <td>4</td>\n",
       "      <td>14</td>\n",
       "      <td>0.000016</td>\n",
       "      <td>(\"17:30:19\", \"20:16:39\")</td>\n",
       "      <td>t-in_voc</td>\n",
       "      <td>t-out</td>\n",
       "      <td>512</td>\n",
       "      <td>8</td>\n",
       "      <td>3</td>\n",
       "      <td>3</td>\n",
       "      <td>transformer</td>\n",
       "      <td>0.539542</td>\n",
       "      <td>[0.871069432905803, 0.8718091704696764, 0.8700...</td>\n",
       "    </tr>\n",
       "    <tr>\n",
       "      <th>...</th>\n",
       "      <td>...</td>\n",
       "      <td>...</td>\n",
       "      <td>...</td>\n",
       "      <td>...</td>\n",
       "      <td>...</td>\n",
       "      <td>...</td>\n",
       "      <td>...</td>\n",
       "      <td>...</td>\n",
       "      <td>...</td>\n",
       "      <td>...</td>\n",
       "      <td>...</td>\n",
       "      <td>...</td>\n",
       "      <td>...</td>\n",
       "      <td>...</td>\n",
       "    </tr>\n",
       "    <tr>\n",
       "      <th>114</th>\n",
       "      <td>2595</td>\n",
       "      <td>7</td>\n",
       "      <td>32</td>\n",
       "      <td>0.000738</td>\n",
       "      <td>(\"11:16:05\", \"17:38:16\")</td>\n",
       "      <td>t-in_voc</td>\n",
       "      <td>t-out</td>\n",
       "      <td>512</td>\n",
       "      <td>8</td>\n",
       "      <td>3</td>\n",
       "      <td>3</td>\n",
       "      <td>transformer</td>\n",
       "      <td>0.743956</td>\n",
       "      <td>[0.9410723171818403, 0.9508627373829721, 0.951...</td>\n",
       "    </tr>\n",
       "    <tr>\n",
       "      <th>115</th>\n",
       "      <td>2596</td>\n",
       "      <td>7</td>\n",
       "      <td>32</td>\n",
       "      <td>0.000740</td>\n",
       "      <td>(\"11:16:06\", \"17:29:56\")</td>\n",
       "      <td>t-in_voc</td>\n",
       "      <td>t-out</td>\n",
       "      <td>512</td>\n",
       "      <td>8</td>\n",
       "      <td>3</td>\n",
       "      <td>3</td>\n",
       "      <td>transformer</td>\n",
       "      <td>0.739524</td>\n",
       "      <td>[0.9396373146937311, 0.9496013239055213, 0.950...</td>\n",
       "    </tr>\n",
       "    <tr>\n",
       "      <th>116</th>\n",
       "      <td>2597</td>\n",
       "      <td>7</td>\n",
       "      <td>32</td>\n",
       "      <td>0.000742</td>\n",
       "      <td>(\"17:05:03\", \"23:19:52\")</td>\n",
       "      <td>t-in_voc</td>\n",
       "      <td>t-out</td>\n",
       "      <td>512</td>\n",
       "      <td>8</td>\n",
       "      <td>3</td>\n",
       "      <td>3</td>\n",
       "      <td>transformer</td>\n",
       "      <td>0.706125</td>\n",
       "      <td>[0.9273819305412505, 0.9424726018678178, 0.943...</td>\n",
       "    </tr>\n",
       "    <tr>\n",
       "      <th>117</th>\n",
       "      <td>2598</td>\n",
       "      <td>7</td>\n",
       "      <td>32</td>\n",
       "      <td>0.000746</td>\n",
       "      <td>(\"17:08:27\", \"23:29:15\")</td>\n",
       "      <td>t-in_voc</td>\n",
       "      <td>t-out</td>\n",
       "      <td>512</td>\n",
       "      <td>8</td>\n",
       "      <td>3</td>\n",
       "      <td>3</td>\n",
       "      <td>transformer</td>\n",
       "      <td>0.041152</td>\n",
       "      <td>[0.6109407367117612, 0.42705211142099964, 0.30...</td>\n",
       "    </tr>\n",
       "    <tr>\n",
       "      <th>118</th>\n",
       "      <td>2599</td>\n",
       "      <td>7</td>\n",
       "      <td>32</td>\n",
       "      <td>0.000752</td>\n",
       "      <td>(\"17:29:59\", \"23:46:23\")</td>\n",
       "      <td>t-in_voc</td>\n",
       "      <td>t-out</td>\n",
       "      <td>512</td>\n",
       "      <td>8</td>\n",
       "      <td>3</td>\n",
       "      <td>3</td>\n",
       "      <td>transformer</td>\n",
       "      <td>0.724676</td>\n",
       "      <td>[0.9347189593917441, 0.9467081737278819, 0.947...</td>\n",
       "    </tr>\n",
       "  </tbody>\n",
       "</table>\n",
       "<p>119 rows × 14 columns</p>\n",
       "</div>"
      ],
      "text/plain": [
       "      job  seqlen  epochs     lrate                     times      f_in  \\\n",
       "0    1192       4      14  0.000198  (\"18:47:56\", \"21:35:10\")  t-in_voc   \n",
       "1    1344       4      14  0.000008  (\"17:23:41\", \"20:10:02\")  t-in_voc   \n",
       "2    1345       4      14  0.000010  (\"17:23:42\", \"20:09:12\")  t-in_voc   \n",
       "3    1346       4      14  0.000012  (\"17:23:47\", \"20:12:51\")  t-in_voc   \n",
       "4    1347       4      14  0.000016  (\"17:30:19\", \"20:16:39\")  t-in_voc   \n",
       "..    ...     ...     ...       ...                       ...       ...   \n",
       "114  2595       7      32  0.000738  (\"11:16:05\", \"17:38:16\")  t-in_voc   \n",
       "115  2596       7      32  0.000740  (\"11:16:06\", \"17:29:56\")  t-in_voc   \n",
       "116  2597       7      32  0.000742  (\"17:05:03\", \"23:19:52\")  t-in_voc   \n",
       "117  2598       7      32  0.000746  (\"17:08:27\", \"23:29:15\")  t-in_voc   \n",
       "118  2599       7      32  0.000752  (\"17:29:59\", \"23:46:23\")  t-in_voc   \n",
       "\n",
       "     f_out  embsize  n_heads  n_enc  n_dec      network  complete  \\\n",
       "0    t-out      512        8      3      3  transformer  0.718206   \n",
       "1    t-out      512        8      3      3  transformer  0.382103   \n",
       "2    t-out      512        8      3      3  transformer  0.430072   \n",
       "3    t-out      512        8      3      3  transformer  0.480556   \n",
       "4    t-out      512        8      3      3  transformer  0.539542   \n",
       "..     ...      ...      ...    ...    ...          ...       ...   \n",
       "114  t-out      512        8      3      3  transformer  0.743956   \n",
       "115  t-out      512        8      3      3  transformer  0.739524   \n",
       "116  t-out      512        8      3      3  transformer  0.706125   \n",
       "117  t-out      512        8      3      3  transformer  0.041152   \n",
       "118  t-out      512        8      3      3  transformer  0.724676   \n",
       "\n",
       "                                              distinct  \n",
       "0    [0.9414924489865595, 0.9471941185173383, 0.946...  \n",
       "1    [0.7952975452093457, 0.7879684530380453, 0.782...  \n",
       "2    [0.8177628059952884, 0.8167271734058655, 0.813...  \n",
       "3    [0.842834219121647, 0.8435284343738975, 0.8417...  \n",
       "4    [0.871069432905803, 0.8718091704696764, 0.8700...  \n",
       "..                                                 ...  \n",
       "114  [0.9410723171818403, 0.9508627373829721, 0.951...  \n",
       "115  [0.9396373146937311, 0.9496013239055213, 0.950...  \n",
       "116  [0.9273819305412505, 0.9424726018678178, 0.943...  \n",
       "117  [0.6109407367117612, 0.42705211142099964, 0.30...  \n",
       "118  [0.9347189593917441, 0.9467081737278819, 0.947...  \n",
       "\n",
       "[119 rows x 14 columns]"
      ]
     },
     "execution_count": 18,
     "metadata": {},
     "output_type": "execute_result"
    }
   ],
   "source": [
    "scores"
   ]
  },
  {
   "cell_type": "code",
   "execution_count": 19,
   "metadata": {},
   "outputs": [
    {
     "name": "stdout",
     "output_type": "stream",
     "text": [
      "Choosing sequence length = 4.0 and learning rate = 0.000205.\n"
     ]
    }
   ],
   "source": [
    "# Find the combination of sequence length and learning rate\n",
    "# of which we have the most runs.\n",
    "cols = ['seqlen', 'lrate']\n",
    "seqlen, lrate = scores[cols].apply(tuple, 1).mode()[0]\n",
    "print(f'Choosing sequence length = {seqlen} and learning rate = {lrate}.')"
   ]
  },
  {
   "cell_type": "code",
   "execution_count": 20,
   "metadata": {},
   "outputs": [
    {
     "name": "stdout",
     "output_type": "stream",
     "text": [
      "Selection comprises 35 entries.\n"
     ]
    }
   ],
   "source": [
    "# Make a dataframe of the selection and sort it on learning rate.\n",
    "df = scores[(scores['seqlen'] == seqlen) & (scores['lrate'] == lrate)].sort_values(by='epochs')\n",
    "print(f'Selection comprises {len(df)} entries.')"
   ]
  },
  {
   "cell_type": "markdown",
   "metadata": {},
   "source": [
    "# Let us first investigate the relation between the scores on the complete strings and the number of epochs."
   ]
  },
  {
   "cell_type": "code",
   "execution_count": 21,
   "metadata": {},
   "outputs": [
    {
     "data": {
      "text/plain": [
       "[<matplotlib.lines.Line2D at 0x7f47d62a7430>]"
      ]
     },
     "execution_count": 21,
     "metadata": {},
     "output_type": "execute_result"
    },
    {
     "data": {
      "image/png": "[encoded data removed]",
      "text/plain": [
       "<Figure size 432x288 with 1 Axes>"
      ]
     },
     "metadata": {
      "needs_background": "light"
     },
     "output_type": "display_data"
    }
   ],
   "source": [
    "# Create a scatter plot of the values\n",
    "from numpy import array\n",
    "from matplotlib.pyplot import plot, xlabel, ylabel\n",
    "\n",
    "x = array(df['epochs'])\n",
    "y = array(df['complete'])\n",
    "\n",
    "xlabel('Number of epochs')\n",
    "ylabel('Accuracy')\n",
    "plot(x, y, 'o')"
   ]
  },
  {
   "cell_type": "markdown",
   "metadata": {},
   "source": [
    "These points suggest a build-up towards an asymptotic value. Let us first try to find a function that approximates this build-up, so we can estimate the asymptotic value. The shape is reminiscent of $a x^r (b+x)^{-r}$, so we try this function first."
   ]
  },
  {
   "cell_type": "code",
   "execution_count": 22,
   "metadata": {},
   "outputs": [],
   "source": [
    "from numpy import mean, sum\n",
    "\n",
    "# Return the coefficient of determination of the predicted values (y1)\n",
    "# against the observed values (y0).\n",
    "\n",
    "def r_squared(y0, y1):\n",
    "    residuals = y0 - y1\n",
    "    ss_res = sum(residuals**2)\n",
    "    ss_tot = sum((y0 - mean(y0))**2)\n",
    "    return 1 - (ss_res / ss_tot)"
   ]
  },
  {
   "cell_type": "code",
   "execution_count": 23,
   "metadata": {
    "scrolled": true
   },
   "outputs": [
    {
     "name": "stdout",
     "output_type": "stream",
     "text": [
      "R2 = 0.9963820289468648.\n"
     ]
    }
   ],
   "source": [
    "from scipy.optimize import curve_fit\n",
    "\n",
    "def f(x,a,b,r):\n",
    "    return a * x**r / (b + x)**r\n",
    "\n",
    "fit = curve_fit(f, x, y)\n",
    "[a,b,r] = fit[0]\n",
    "print(f'R2 = {r_squared(array(y), f(x,a,b,r))}.')"
   ]
  },
  {
   "cell_type": "code",
   "execution_count": 24,
   "metadata": {
    "scrolled": true
   },
   "outputs": [
    {
     "name": "stdout",
     "output_type": "stream",
     "text": [
      "Estimation of asymptotic value is 0.78.\n"
     ]
    },
    {
     "data": {
      "image/png": "[encoded data removed]",
      "text/plain": [
       "<Figure size 432x288 with 1 Axes>"
      ]
     },
     "metadata": {
      "needs_background": "light"
     },
     "output_type": "display_data"
    }
   ],
   "source": [
    "from numpy import linspace\n",
    "\n",
    "xlabel('Numner of epochs')\n",
    "ylabel('Accuracy')\n",
    "xi = linspace(x[0], x[-1], len(x)**2)\n",
    "plot(xi, f(xi,a,b,r), '-')\n",
    "plot(x, y, 'o')\n",
    "m = a\n",
    "print(f'Estimation of asymptotic value is {m:.2f}.')"
   ]
  },
  {
   "cell_type": "markdown",
   "metadata": {},
   "source": [
    "# Now, let us do the same for the scores on the distinct words."
   ]
  },
  {
   "cell_type": "code",
   "execution_count": 25,
   "metadata": {
    "scrolled": true
   },
   "outputs": [],
   "source": [
    "# Turn the objects in the 'distinct' column into proper lists\n",
    "# and extract the maximum value from each of them.\n",
    "y = array(df['distinct'].apply(eval).apply(max))"
   ]
  },
  {
   "cell_type": "code",
   "execution_count": 26,
   "metadata": {},
   "outputs": [
    {
     "data": {
      "text/plain": [
       "[<matplotlib.lines.Line2D at 0x7f47d04a13a0>]"
      ]
     },
     "execution_count": 26,
     "metadata": {},
     "output_type": "execute_result"
    },
    {
     "data": {
      "image/png": "[encoded data removed]",
      "text/plain": [
       "<Figure size 432x288 with 1 Axes>"
      ]
     },
     "metadata": {
      "needs_background": "light"
     },
     "output_type": "display_data"
    }
   ],
   "source": [
    "# Create a scatter plot of the values\n",
    "from matplotlib.pyplot import plot\n",
    "\n",
    "xlabel('Number of epochs')\n",
    "ylabel('Accuracy')\n",
    "plot(x, y, 'o')"
   ]
  },
  {
   "cell_type": "code",
   "execution_count": 27,
   "metadata": {
    "scrolled": true
   },
   "outputs": [
    {
     "name": "stdout",
     "output_type": "stream",
     "text": [
      "R2 = 0.9954005630553148.\n"
     ]
    }
   ],
   "source": [
    "fit = curve_fit(f, x, y)\n",
    "[a,b,r] = fit[0]\n",
    "#print(fit)\n",
    "print(f'R2 = {r_squared(y, f(x,a,b,r))}.')"
   ]
  },
  {
   "cell_type": "code",
   "execution_count": 28,
   "metadata": {
    "scrolled": true
   },
   "outputs": [
    {
     "name": "stdout",
     "output_type": "stream",
     "text": [
      "Estimation of asymptotic value is 0.974.\n"
     ]
    },
    {
     "data": {
      "image/png": "[encoded data removed]",
      "text/plain": [
       "<Figure size 432x288 with 1 Axes>"
      ]
     },
     "metadata": {
      "needs_background": "light"
     },
     "output_type": "display_data"
    }
   ],
   "source": [
    "xlabel('Number of epochs')\n",
    "ylabel('Accuracy')\n",
    "plot(x, f(x,a,b,r), '-')\n",
    "plot(x, y, 'o')\n",
    "m = a\n",
    "print(f'Estimation of asymptotic value is {m:.3f}.')"
   ]
  },
  {
   "cell_type": "markdown",
   "metadata": {},
   "source": [
    "# How does the number of epochs influence the running time?"
   ]
  },
  {
   "cell_type": "code",
   "execution_count": 29,
   "metadata": {},
   "outputs": [
    {
     "data": {
      "text/plain": [
       "[<matplotlib.lines.Line2D at 0x7f47d03d90d0>]"
      ]
     },
     "execution_count": 29,
     "metadata": {},
     "output_type": "execute_result"
    },
    {
     "data": {
      "image/png": "[encoded data removed]",
      "text/plain": [
       "<Figure size 432x288 with 1 Axes>"
      ]
     },
     "metadata": {
      "needs_background": "light"
     },
     "output_type": "display_data"
    }
   ],
   "source": [
    "from datetime import datetime\n",
    "\n",
    "def time(s):\n",
    "    fmt = '%H:%M:%S'\n",
    "    return datetime.strptime(s, fmt)\n",
    "\n",
    "running_times = list(df['times'].apply(eval))\n",
    "dt = []\n",
    "\n",
    "for t in running_times:\n",
    "    dt.append(time(t[1]) - time(t[0]))\n",
    "\n",
    "y = array([t.seconds/3600 for t in dt])\n",
    "\n",
    "xlabel('Number of epochs')\n",
    "ylabel('Running time (hours)')\n",
    "plot(x,y, 'o')"
   ]
  },
  {
   "cell_type": "code",
   "execution_count": 30,
   "metadata": {},
   "outputs": [
    {
     "name": "stdout",
     "output_type": "stream",
     "text": [
      "R2 = 0.9996329493702482.\n"
     ]
    }
   ],
   "source": [
    "from scipy.optimize import curve_fit\n",
    "\n",
    "def f(n,a,b):\n",
    "    return a * n + b\n",
    "\n",
    "fit = curve_fit(f, x, y)\n",
    "[a,b] = fit[0]\n",
    "print(f'R2 = {r_squared(y, f(x,a,b))}.')"
   ]
  },
  {
   "cell_type": "code",
   "execution_count": 31,
   "metadata": {},
   "outputs": [
    {
     "name": "stdout",
     "output_type": "stream",
     "text": [
      "Running time is 2h3m plus 189s per epoch\n"
     ]
    },
    {
     "data": {
      "image/png": "[encoded data removed]",
      "text/plain": [
       "<Figure size 432x288 with 1 Axes>"
      ]
     },
     "metadata": {
      "needs_background": "light"
     },
     "output_type": "display_data"
    }
   ],
   "source": [
    "xlabel('Number of epochs')\n",
    "ylabel('Running time (hours)')\n",
    "plot(x, y, '.')\n",
    "plot(x, f(x,a,b))\n",
    "\n",
    "from math import modf\n",
    "\n",
    "m, h = modf(b)\n",
    "bstr = f'{int(h)}h{round(60*m)}m'\n",
    "astr = f'{int(round(3600*a, 0))}s'\n",
    "print(f'Running time is {bstr} plus {astr} per epoch')"
   ]
  }
 ],
 "metadata": {
  "kernelspec": {
   "display_name": "Python 3",
   "language": "python",
   "name": "python3"
  },
  "language_info": {
   "codemirror_mode": {
    "name": "ipython",
    "version": 3
   },
   "file_extension": ".py",
   "mimetype": "text/x-python",
   "name": "python",
   "nbconvert_exporter": "python",
   "pygments_lexer": "ipython3",
   "version": "3.8.10"
  }
 },
 "nbformat": 4,
 "nbformat_minor": 5
}
