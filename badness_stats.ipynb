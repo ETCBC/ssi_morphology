{
 "cells": [
  {
   "cell_type": "code",
   "execution_count": 1,
   "id": "1b30d890",
   "metadata": {},
   "outputs": [],
   "source": [
    "# The constants from mc-badness.py\n",
    "Base = 8\n",
    "Dimensions = 6"
   ]
  },
  {
   "cell_type": "code",
   "execution_count": 2,
   "id": "dfaf95b6",
   "metadata": {},
   "outputs": [],
   "source": [
    "from math import floor, log"
   ]
  },
  {
   "cell_type": "code",
   "execution_count": 3,
   "id": "d437a016",
   "metadata": {},
   "outputs": [],
   "source": [
    "# Read the values for badness of error from the file produced by mc-badness.py.\n",
    "# Calculate the level of the error and add it to the list 'badnesses'.\n",
    "\n",
    "badnesses = []\n",
    "\n",
    "with open('badness_2021-07-09') as f:\n",
    "   for line in f:\n",
    "      l = line.split()\n",
    "      if len(l) >= 4 and l[3] == \"wrong\":\n",
    "         badness = float(l[4])\n",
    "         if badness == 0.0:\n",
    "            degree = 0\n",
    "         else:\n",
    "            degree = floor(log(badness)/log(Base))\n",
    "         level = Dimensions - degree - 1\n",
    "         badnesses.append(level)"
   ]
  },
  {
   "cell_type": "code",
   "execution_count": 4,
   "id": "c8a04ecd",
   "metadata": {},
   "outputs": [
    {
     "data": {
      "text/plain": [
       "array([[<AxesSubplot:title={'center':'Error Level'}>]], dtype=object)"
      ]
     },
     "execution_count": 4,
     "metadata": {},
     "output_type": "execute_result"
    },
    {
     "data": {
      "image/png": "[encoded data removed]",
      "text/plain": [
       "<Figure size 432x288 with 1 Axes>"
      ]
     },
     "metadata": {
      "needs_background": "light"
     },
     "output_type": "display_data"
    }
   ],
   "source": [
    "# Display a histogram of the error levels.\n",
    "from pandas import DataFrame\n",
    "\n",
    "# Apply a continuity correction to the range\n",
    "r = [x - 1/2 for x in (0, Dimensions)]\n",
    "\n",
    "df = DataFrame(badnesses)\n",
    "df.columns = ['Error Level']\n",
    "df.hist(bins=Dimensions, grid=False, range=r)"
   ]
  },
  {
   "cell_type": "code",
   "execution_count": 5,
   "id": "85daf402",
   "metadata": {},
   "outputs": [],
   "source": [
    "# Level 0: Parse errors in the encoding\n",
    "# Level 1: Difference of the surface form with the true surface form\n",
    "# Level 2: Ungrammatical morpheme type combinations\n",
    "# Level 3: Unparadigmatic morphemes\n",
    "# Level 4: Difference in number of analytical words with the true form\n",
    "# Level 5: Difference in morphemes with the true form"
   ]
  }
 ],
 "metadata": {
  "kernelspec": {
   "display_name": "Python 3",
   "language": "python",
   "name": "python3"
  },
  "language_info": {
   "codemirror_mode": {
    "name": "ipython",
    "version": 3
   },
   "file_extension": ".py",
   "mimetype": "text/x-python",
   "name": "python",
   "nbconvert_exporter": "python",
   "pygments_lexer": "ipython3",
   "version": "3.8.8"
  }
 },
 "nbformat": 4,
 "nbformat_minor": 5
}
