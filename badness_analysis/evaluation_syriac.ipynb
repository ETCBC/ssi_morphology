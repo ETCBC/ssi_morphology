{
 "cells": [
  {
   "cell_type": "markdown",
   "id": "c2c5dd72",
   "metadata": {},
   "source": [
    "This notebook is an example of how to use the module `evaluation.py` for the evaluation of the output of the neural network."
   ]
  },
  {
   "cell_type": "code",
   "execution_count": 19,
   "id": "1b30d890",
   "metadata": {},
   "outputs": [],
   "source": [
    "import matplotlib.pyplot as plt\n",
    "\n",
    "from evaluation import mc_badness, mc_distance, mc_load_morphemes"
   ]
  },
  {
   "cell_type": "code",
   "execution_count": 2,
   "id": "1684d35e",
   "metadata": {},
   "outputs": [],
   "source": [
    "# Initialise the language\n",
    "mc_load_morphemes('Hebrew')"
   ]
  },
  {
   "cell_type": "code",
   "execution_count": 3,
   "id": "7024fb7d",
   "metadata": {},
   "outputs": [
    {
     "data": {
      "text/plain": [
       "0"
      ]
     },
     "execution_count": 3,
     "metadata": {},
     "output_type": "execute_result"
    }
   ],
   "source": [
    "# For a correct encoding, mc_badness() returns 0\n",
    "mc_badness('W-CLX[TJ:d+K')"
   ]
  },
  {
   "cell_type": "code",
   "execution_count": 4,
   "id": "508a450f",
   "metadata": {},
   "outputs": [
    {
     "data": {
      "text/plain": [
       "163840"
      ]
     },
     "execution_count": 4,
     "metadata": {},
     "output_type": "execute_result"
    }
   ],
   "source": [
    "# For incorrect encodings, mc_badness() returns a positive integer < 262144 = 8**6. \n",
    "mc_badness('KCL(/WT')"
   ]
  },
  {
   "cell_type": "code",
   "execution_count": 5,
   "id": "0fd80d93",
   "metadata": {},
   "outputs": [
    {
     "data": {
      "text/plain": [
       "8192"
      ]
     },
     "execution_count": 5,
     "metadata": {},
     "output_type": "execute_result"
    }
   ],
   "source": [
    "# With two arguments, mc_badness() also checks the surface form against the input.\n",
    "# In this example, there is a mismatch: 'BXWR' != 'BWRR'.\n",
    "mc_badness('W:HAB.AXW.RIJM', 'W-H-BWRR/JM')"
   ]
  },
  {
   "cell_type": "code",
   "execution_count": 6,
   "id": "3d6f5aad",
   "metadata": {},
   "outputs": [
    {
     "data": {
      "text/plain": [
       "8194"
      ]
     },
     "execution_count": 6,
     "metadata": {},
     "output_type": "execute_result"
    }
   ],
   "source": [
    "# mc_distance() compares two encodings and returns a positive \n",
    "# integer < 262144 = 8**6 indicating how far they are apart.\n",
    "mc_distance('!T=!](H]MT&JQ[', '!T!](H]MMJJQ[')"
   ]
  },
  {
   "cell_type": "code",
   "execution_count": 84,
   "id": "8ff044b2",
   "metadata": {},
   "outputs": [],
   "source": [
    "input_file = 'syriac_only.txt'\n",
    "output_file = 'syriac_only.txt'\n",
    "\n",
    "# optimal_word_idx is index in sequence with most accurate predictions.\n",
    "optimal_word_idx = 1"
   ]
  },
  {
   "cell_type": "code",
   "execution_count": 85,
   "id": "4fdb2186",
   "metadata": {},
   "outputs": [],
   "source": [
    "class SeqPair:\n",
    "    \"\"\"\n",
    "    Object of which instance contains pair of predicted seqs and true values.\n",
    "    Class attribute al_pairs collects all instances.\n",
    "    \"\"\"\n",
    "    all_pairs = []\n",
    "    \n",
    "    def __init__(self, predicted):\n",
    "        self.predicted = predicted\n",
    "        self.true_value = None"
   ]
  },
  {
   "cell_type": "code",
   "execution_count": 86,
   "id": "16e23779",
   "metadata": {},
   "outputs": [],
   "source": [
    "# Collect info from output of model.\n",
    "\n",
    "with open(input_file, 'r') as f:\n",
    "    for idx, line in enumerate(f):\n",
    "        if not (line.startswith('Predicted') or line.startswith('Truevalue')):\n",
    "                continue\n",
    "        if not idx % 2:\n",
    "            seq_pair = SeqPair(line.strip('Predicted '))\n",
    "        else:\n",
    "            seq_pair.true_value = line.strip('Truevalue ')\n",
    "            SeqPair.all_pairs.append(seq_pair)"
   ]
  },
  {
   "cell_type": "code",
   "execution_count": 87,
   "id": "a514269b",
   "metadata": {},
   "outputs": [],
   "source": [
    "# Write results to correct format.\n",
    "\n",
    "def export_line(sequence_pair, idx, file):\n",
    "    predicted_value = sequence_pair.predicted.split()[idx]\n",
    "    true_value = sequence_pair.true_value.split()[idx]\n",
    "    evaluation = 'wrong' if predicted_value != true_value else 'correct'\n",
    "    file.write(f'raw {predicted_value} {true_value} {evaluation}\\n')\n",
    "\n",
    "with open(output_file, 'w') as o:\n",
    "    for pair_idx, sequence_pair in enumerate(SeqPair.all_pairs):\n",
    "        if pair_idx == 0:\n",
    "            for i in range(optimal_word_idx + 1):\n",
    "                export_line(sequence_pair, i, o)\n",
    "        elif pair_idx == len(SeqPair.all_pairs) - 1:\n",
    "            for i in range(optimal_word_idx, len(sequence_pair.predicted.split())):\n",
    "                export_line(sequence_pair, i, o)\n",
    "        else:\n",
    "            export_line(sequence_pair, i, o)"
   ]
  },
  {
   "cell_type": "code",
   "execution_count": 88,
   "id": "d437a016",
   "metadata": {},
   "outputs": [],
   "source": [
    "# Retrieve the evaluation lines from the output of the neural network\n",
    "# and compile the list of distances.\n",
    "\n",
    "distances = []\n",
    "\n",
    "with open(output_file) as f:\n",
    "   for line in f:\n",
    "      l = line.split()\n",
    "      if len(l) != 4:\n",
    "         continue\n",
    "      if l[3] == \"correct\":\n",
    "         distances.append(0)\n",
    "      elif l[3] == \"wrong\":\n",
    "         distances.append(mc_distance(l[1], l[2]))"
   ]
  },
  {
   "cell_type": "code",
   "execution_count": 89,
   "id": "dfaf95b6",
   "metadata": {},
   "outputs": [],
   "source": [
    "# These imports are necessary for the calculation of the error levels\n",
    "from math import floor, log\n",
    "from evaluation import Base, Dimensions\n",
    "\n",
    "# A score is a tuple (is_correct, distance, error_level)\n",
    "scores = []\n",
    "\n",
    "for d in distances:\n",
    "   if d == 0:\n",
    "      level = Dimensions\n",
    "   else:\n",
    "      degree = floor(log(d)/log(Base))\n",
    "      level = Dimensions - degree - 1\n",
    "   scores.append((d == 0, d, level))"
   ]
  },
  {
   "cell_type": "code",
   "execution_count": 90,
   "id": "470a3310",
   "metadata": {},
   "outputs": [
    {
     "name": "stdout",
     "output_type": "stream",
     "text": [
      "Accuracy: 9705/10875 = 0.8924137931034483\n"
     ]
    }
   ],
   "source": [
    "# Calculate the accuracy of the run\n",
    "c = [s[0] for s in scores].count(True)\n",
    "n = len(scores)\n",
    "print(f'Accuracy: {c}/{n} = {c/n}')"
   ]
  },
  {
   "cell_type": "code",
   "execution_count": 91,
   "id": "fcce81fd",
   "metadata": {},
   "outputs": [
    {
     "name": "stdout",
     "output_type": "stream",
     "text": [
      "Deviation = 51\n"
     ]
    }
   ],
   "source": [
    "# Calculate the deviation of the run\n",
    "from statistics import mean, stdev\n",
    "distances = [s[1] for s in scores]\n",
    "print(f'Deviation = {mean(distances)}') #, spread = {stdev(distances)}')"
   ]
  },
  {
   "cell_type": "code",
   "execution_count": 92,
   "id": "c8a04ecd",
   "metadata": {},
   "outputs": [
    {
     "data": {
      "image/png": "[encoded data removed]",
      "text/plain": [
       "<Figure size 432x288 with 1 Axes>"
      ]
     },
     "metadata": {
      "needs_background": "light"
     },
     "output_type": "display_data"
    }
   ],
   "source": [
    "# Display a histogram of the error levels.\n",
    "from pandas import DataFrame\n",
    "\n",
    "# Apply a continuity correction to the range\n",
    "r = [x - 1/2 for x in (0, Dimensions)]\n",
    "\n",
    "df = DataFrame([s[2] for s in scores if not s[0]])\n",
    "df.columns = ['Errors in Syriac only']\n",
    "df.hist(bins=Dimensions, grid=False, range=r)\n",
    "\n",
    "plt.savefig('syriac_only.png')"
   ]
  },
  {
   "cell_type": "code",
   "execution_count": 72,
   "id": "19fe968b",
   "metadata": {},
   "outputs": [
    {
     "data": {
      "text/plain": [
       "5    828\n",
       "3     92\n",
       "4     82\n",
       "1     22\n",
       "0      2\n",
       "2      1\n",
       "Name: Errors in consonantal Hebrew/Syriac sequential, dtype: int64"
      ]
     },
     "execution_count": 72,
     "metadata": {},
     "output_type": "execute_result"
    }
   ],
   "source": [
    "df['Errors in consonantal Hebrew/Syriac sequential'].value_counts()"
   ]
  },
  {
   "cell_type": "code",
   "execution_count": 83,
   "id": "4432fcb5",
   "metadata": {},
   "outputs": [
    {
     "data": {
      "text/plain": [
       "5    803\n",
       "3     93\n",
       "4     88\n",
       "1     16\n",
       "0      3\n",
       "Name: Errors in consonantal Hebrew/Syriac simultaneous, dtype: int64"
      ]
     },
     "execution_count": 83,
     "metadata": {},
     "output_type": "execute_result"
    }
   ],
   "source": [
    "df['Errors in consonantal Hebrew/Syriac simultaneous'].value_counts()"
   ]
  },
  {
   "cell_type": "code",
   "execution_count": 93,
   "id": "bb33d87b",
   "metadata": {},
   "outputs": [
    {
     "data": {
      "text/plain": [
       "5    910\n",
       "3    106\n",
       "4     88\n",
       "1     63\n",
       "2      2\n",
       "0      1\n",
       "Name: Errors in Syriac only, dtype: int64"
      ]
     },
     "execution_count": 93,
     "metadata": {},
     "output_type": "execute_result"
    }
   ],
   "source": [
    "df['Errors in Syriac only'].value_counts()"
   ]
  },
  {
   "cell_type": "markdown",
   "id": "f690e0ec",
   "metadata": {},
   "source": [
    "#### Error Levels\n",
    "0. Parse errors in the encoding\n",
    "1. Difference of the surface form with the true surface form\n",
    "2. Ungrammatical morpheme type combinations\n",
    "3. Unparadigmatic morphemes\n",
    "4. Difference in number of analytical words with the true form\n",
    "5. Difference in morphemes with the true form"
   ]
  }
 ],
 "metadata": {
  "kernelspec": {
   "display_name": "Python 3 (ipykernel)",
   "language": "python",
   "name": "python3"
  },
  "language_info": {
   "codemirror_mode": {
    "name": "ipython",
    "version": 3
   },
   "file_extension": ".py",
   "mimetype": "text/x-python",
   "name": "python",
   "nbconvert_exporter": "python",
   "pygments_lexer": "ipython3",
   "version": "3.9.7"
  }
 },
 "nbformat": 4,
 "nbformat_minor": 5
}
