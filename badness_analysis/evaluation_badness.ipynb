{
 "cells": [
  {
   "cell_type": "markdown",
   "id": "c2c5dd72",
   "metadata": {},
   "source": [
    "This notebook is an example of how to use the module `evaluation.py` for the evaluation of the output of the neural network."
   ]
  },
  {
   "cell_type": "code",
   "execution_count": 3,
   "id": "1b30d890",
   "metadata": {},
   "outputs": [],
   "source": [
    "from badness_analysis.evaluation import mc_badness, mc_distance, mc_load_morphemes"
   ]
  },
  {
   "cell_type": "code",
   "execution_count": 4,
   "id": "1684d35e",
   "metadata": {},
   "outputs": [
    {
     "ename": "FileNotFoundError",
     "evalue": "[Errno 2] No such file or directory: 'Hebrew.json'",
     "output_type": "error",
     "traceback": [
      "\u001b[1;31m---------------------------------------------------------------------------\u001b[0m",
      "\u001b[1;31mFileNotFoundError\u001b[0m                         Traceback (most recent call last)",
      "\u001b[1;32m~\\AppData\\Local\\Temp/ipykernel_18672/3164728913.py\u001b[0m in \u001b[0;36m<module>\u001b[1;34m\u001b[0m\n\u001b[0;32m      1\u001b[0m \u001b[1;31m# Initialise the language\u001b[0m\u001b[1;33m\u001b[0m\u001b[1;33m\u001b[0m\u001b[0m\n\u001b[1;32m----> 2\u001b[1;33m \u001b[0mmc_load_morphemes\u001b[0m\u001b[1;33m(\u001b[0m\u001b[1;34m'Hebrew'\u001b[0m\u001b[1;33m)\u001b[0m\u001b[1;33m\u001b[0m\u001b[1;33m\u001b[0m\u001b[0m\n\u001b[0m",
      "\u001b[1;32m~\\VUProjecten\\ssi_morphology\\src\\badness_analysis\\evaluation.py\u001b[0m in \u001b[0;36mmc_load_morphemes\u001b[1;34m(l)\u001b[0m\n\u001b[0;32m     61\u001b[0m    \u001b[1;32mfrom\u001b[0m \u001b[0mjson\u001b[0m \u001b[1;32mimport\u001b[0m \u001b[0mload\u001b[0m\u001b[1;33m\u001b[0m\u001b[1;33m\u001b[0m\u001b[0m\n\u001b[0;32m     62\u001b[0m \u001b[1;33m\u001b[0m\u001b[0m\n\u001b[1;32m---> 63\u001b[1;33m    \u001b[1;32mwith\u001b[0m \u001b[0mopen\u001b[0m\u001b[1;33m(\u001b[0m\u001b[0ml\u001b[0m \u001b[1;33m+\u001b[0m \u001b[1;34m'.json'\u001b[0m\u001b[1;33m)\u001b[0m \u001b[1;32mas\u001b[0m \u001b[0mf\u001b[0m\u001b[1;33m:\u001b[0m\u001b[1;33m\u001b[0m\u001b[1;33m\u001b[0m\u001b[0m\n\u001b[0m\u001b[0;32m     64\u001b[0m       \u001b[0md\u001b[0m \u001b[1;33m=\u001b[0m \u001b[0mload\u001b[0m\u001b[1;33m(\u001b[0m\u001b[0mf\u001b[0m\u001b[1;33m)\u001b[0m\u001b[1;33m\u001b[0m\u001b[1;33m\u001b[0m\u001b[0m\n\u001b[0;32m     65\u001b[0m \u001b[1;33m\u001b[0m\u001b[0m\n",
      "\u001b[1;31mFileNotFoundError\u001b[0m: [Errno 2] No such file or directory: 'Hebrew.json'"
     ]
    }
   ],
   "source": [
    "# Initialise the language\n",
    "mc_load_morphemes('Hebrew')"
   ]
  },
  {
   "cell_type": "code",
   "execution_count": 9,
   "id": "7024fb7d",
   "metadata": {},
   "outputs": [
    {
     "data": {
      "text/plain": [
       "0"
      ]
     },
     "execution_count": 9,
     "metadata": {},
     "output_type": "execute_result"
    }
   ],
   "source": [
    "# For a correct encoding, mc_badness() returns 0\n",
    "mc_badness('W-CLX[TJ:d+K')"
   ]
  },
  {
   "cell_type": "code",
   "execution_count": 10,
   "id": "508a450f",
   "metadata": {},
   "outputs": [
    {
     "data": {
      "text/plain": [
       "163840"
      ]
     },
     "execution_count": 10,
     "metadata": {},
     "output_type": "execute_result"
    }
   ],
   "source": [
    "# For incorrect encodings, mc_badness() returns a positive integer < 262144 = 8**6. \n",
    "mc_badness('KCL(/WT')"
   ]
  },
  {
   "cell_type": "code",
   "execution_count": 11,
   "id": "0fd80d93",
   "metadata": {},
   "outputs": [
    {
     "data": {
      "text/plain": [
       "8192"
      ]
     },
     "execution_count": 11,
     "metadata": {},
     "output_type": "execute_result"
    }
   ],
   "source": [
    "# With two arguments, mc_badness() also checks the surface form against the input.\n",
    "# In this example, there is a mismatch: 'BXWR' != 'BWRR'.\n",
    "mc_badness('W:HAB.AXW.RIJM', 'W-H-BWRR/JM')"
   ]
  },
  {
   "cell_type": "code",
   "execution_count": 12,
   "id": "3d6f5aad",
   "metadata": {},
   "outputs": [
    {
     "data": {
      "text/plain": [
       "8194"
      ]
     },
     "execution_count": 12,
     "metadata": {},
     "output_type": "execute_result"
    }
   ],
   "source": [
    "# mc_distance() compares two encodings and returns a positive \n",
    "# integer < 262144 = 8**6 indicating how far they are apart.\n",
    "mc_distance('!T=!](H]MT&JQ[', '!T!](H]MMJJQ[')"
   ]
  },
  {
   "cell_type": "code",
   "execution_count": 13,
   "id": "d437a016",
   "metadata": {},
   "outputs": [],
   "source": [
    "# Retrieve the evaluation lines from the output of the neural network\n",
    "# and compile the list of distances.\n",
    "\n",
    "distances = []\n",
    "\n",
    "with open('correct_format.txt') as f:\n",
    "   for line in f:\n",
    "      l = line.split()\n",
    "      if len(l) != 4:\n",
    "         continue\n",
    "      if l[3] == \"correct\":\n",
    "         distances.append(0)\n",
    "      elif l[3] == \"wrong\":\n",
    "         distances.append(mc_distance(l[1], l[2]))"
   ]
  },
  {
   "cell_type": "code",
   "execution_count": 14,
   "id": "dfaf95b6",
   "metadata": {},
   "outputs": [],
   "source": [
    "# These imports are necessary for the calculation of the error levels\n",
    "from math import floor, log\n",
    "from evaluation import Base, Dimensions\n",
    "\n",
    "# A score is a tuple (is_correct, distance, error_level)\n",
    "scores = []\n",
    "\n",
    "for d in distances:\n",
    "   if d == 0:\n",
    "      level = Dimensions\n",
    "   else:\n",
    "      degree = floor(log(d)/log(Base))\n",
    "      level = Dimensions - degree - 1\n",
    "   scores.append((d == 0, d, level))"
   ]
  },
  {
   "cell_type": "code",
   "execution_count": 15,
   "id": "470a3310",
   "metadata": {},
   "outputs": [
    {
     "name": "stdout",
     "output_type": "stream",
     "text": [
      "Accuracy: 8065/10884 = 0.7409959573686145\n"
     ]
    }
   ],
   "source": [
    "# Calculate the accuracy of the run\n",
    "c = [s[0] for s in scores].count(True)\n",
    "n = len(scores)\n",
    "print(f'Accuracy: {c}/{n} = {c/n}')"
   ]
  },
  {
   "cell_type": "code",
   "execution_count": 29,
   "id": "fcce81fd",
   "metadata": {},
   "outputs": [
    {
     "name": "stdout",
     "output_type": "stream",
     "text": [
      "Deviation = 283\n"
     ]
    }
   ],
   "source": [
    "# Calculate the deviation of the run\n",
    "from statistics import mean, stdev\n",
    "distances = [s[1] for s in scores]\n",
    "print(f'Deviation = {mean(distances)}') #, spread = {stdev(distances)}')"
   ]
  },
  {
   "cell_type": "code",
   "execution_count": 27,
   "id": "c8a04ecd",
   "metadata": {},
   "outputs": [
    {
     "data": {
      "text/plain": [
       "array([[<AxesSubplot:title={'center':'Error Level'}>]], dtype=object)"
      ]
     },
     "execution_count": 27,
     "metadata": {},
     "output_type": "execute_result"
    },
    {
     "data": {
      "image/png": "[encoded data removed]",
      "text/plain": [
       "<Figure size 432x288 with 1 Axes>"
      ]
     },
     "metadata": {
      "needs_background": "light"
     },
     "output_type": "display_data"
    }
   ],
   "source": [
    "# Display a histogram of the error levels.\n",
    "from pandas import DataFrame\n",
    "\n",
    "# Apply a continuity correction to the range\n",
    "r = [x - 1/2 for x in (0, Dimensions)]\n",
    "\n",
    "df = DataFrame([s[2] for s in scores if not s[0]])\n",
    "df.columns = ['Error Level']\n",
    "df.hist(bins=Dimensions, grid=False, range=r)"
   ]
  },
  {
   "cell_type": "markdown",
   "id": "f690e0ec",
   "metadata": {},
   "source": [
    "#### Error Levels\n",
    "0. Parse errors in the encoding\n",
    "1. Difference of the surface form with the true surface form\n",
    "2. Ungrammatical morpheme type combinations\n",
    "3. Unparadigmatic morphemes\n",
    "4. Difference in number of analytical words with the true form\n",
    "5. Difference in morphemes with the true form"
   ]
  }
 ],
 "metadata": {
  "kernelspec": {
   "display_name": "Python 3 (ipykernel)",
   "language": "python",
   "name": "python3"
  },
  "language_info": {
   "codemirror_mode": {
    "name": "ipython",
    "version": 3
   },
   "file_extension": ".py",
   "mimetype": "text/x-python",
   "name": "python",
   "nbconvert_exporter": "python",
   "pygments_lexer": "ipython3",
   "version": "3.9.7"
  }
 },
 "nbformat": 4,
 "nbformat_minor": 5
}
